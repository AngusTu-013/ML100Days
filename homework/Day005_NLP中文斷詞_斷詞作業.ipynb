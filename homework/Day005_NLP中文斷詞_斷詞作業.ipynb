{
 "cells": [
  {
   "cell_type": "markdown",
   "metadata": {
    "colab_type": "text",
    "id": "nRxkACwPzPyV"
   },
   "source": [
    "## 作業目標: 了解斷詞演算法的背後計算"
   ]
  },
  {
   "cell_type": "markdown",
   "metadata": {
    "colab_type": "text",
    "id": "l-ybaNZizPyW"
   },
   "source": [
    "### 根據課程講述的內容, 請計算出下列剩餘所有情況的\n",
    "若有一個人連續觀察到三天水草都是乾燥的(Dry), 則這三天的天氣機率為何？(可參考講義第13頁)\n",
    "(Hint: 共有6種可能機率)\n",
    "\n",
    "```python\n",
    "states = ('sunny', 'rainy')\n",
    "observations = ('dry', 'damp', 'soggy')\n",
    "start_probability = {'sunny': 0.4, 'rainy': 0.6}\n",
    "transition_probability = {'sunny':{'sunny':0.6, 'rainy':0.4},\n",
    "                          'rainy': {'sunny':0.3, 'rainy':0.7}}\n",
    "emission_probatility = {'sunny': {'dry':0.6, 'damp':0.3, 'soggy':0.1},\n",
    "                        'rainy': {'dry':0.1, 'damp':0.4, 'soggy':0.5}}\n",
    "```"
   ]
  },
  {
   "cell_type": "markdown",
   "metadata": {
    "colab_type": "text",
    "id": "99u8GShpzPyX"
   },
   "source": [
    "```\n",
    "觀察狀態 = 'dry', 'dry', 'dry'\n",
    "Sunny, Sunny, Sunny: 0.4*(0.6)*0.6*(0.6)*0.6*(0.6) = 0.031104\n",
    "Rainy, Sunny, Sunny: 0.6*(0.1)*0.3*(0.6)*0.6*(0.6) = 0.003888\n",
    "###<your answers>###\n",
    "Sunny, Sunny, Sunny: 0.4*(0.6) * 0.6*(0.6) * 0.6*(0.6) = 0.031104\n",
    "Sunny, Sunny, Rainy: 0.4*(0.6) * 0.6*(0.6) * 0.4*(0.1) = 0.003456\n",
    "Sunny, Rainy, Sunny: 0.4*(0.6) * 0.4*(0.1) * 0.3*(0.1) = 0.000288\n",
    "Sunny, Rainy, Rainy: 0.4*(0.6) * 0.4*(0.1) * 0.7*(0.1) = 0.000672\n",
    "Rainy, Sunny, Sunny: 0.6*(0.1) * 0.3*(0.6) * 0.6*(0.6) = 0.003888\n",
    "Rainy, Rainy, Sunny: 0.6*(0.1) * 0.7*(0.1) * 0.3*(0.6) = 0.000756\n",
    "Rainy, Sunny, Rainy: 0.6*(0.1) * 0.3*(0.6) * 0.4*(0.1) = 0.000432\n",
    "Rainy, Rainy, Rainy: 0.6*(0.1) * 0.7*(0.1) * 0.7*(0.1) = 0.000294\n",
    "\n",
    "最大機率為: Sunny, Sunny, Sunny\n",
    "```"
   ]
  },
  {
   "cell_type": "markdown",
   "metadata": {
    "colab_type": "text",
    "id": "_-avrSj5zPyX"
   },
   "source": [
    "### 根據上述條件, 寫出Viterbi應用程式"
   ]
  },
  {
   "cell_type": "code",
   "execution_count": 1,
   "metadata": {
    "colab": {},
    "colab_type": "code",
    "collapsed": true,
    "id": "miP0aWWezPyY"
   },
   "outputs": [],
   "source": [
    "observations = ('dry', 'dry', 'dry') #實際上觀察到的狀態為dry, dry, dry\n",
    "states = ('sunny', 'rainy')\n",
    "start_probability = {'sunny': 0.4, 'rainy': 0.6}\n",
    "transition_probability = {'sunny':{'sunny':0.6, 'rainy':0.4},\n",
    "                          'rainy': {'sunny':0.3, 'rainy':0.7}}\n",
    "emission_probatility = {'sunny': {'dry':0.6, 'damp':0.3, 'soggy':0.1},\n",
    "                        'rainy': {'dry':0.1, 'damp':0.4, 'soggy':0.5}}"
   ]
  },
  {
   "cell_type": "code",
   "execution_count": 34,
   "metadata": {
    "colab": {},
    "colab_type": "code",
    "id": "OXinHu-8zPyc"
   },
   "outputs": [],
   "source": [
    "def viterbi(obs, states, start_p, trans_p, emit_p):\n",
    "    V = [{}]\n",
    "    path = {}\n",
    "\n",
    "    # Initialize base cases (t == 0)\n",
    "    for y in states:\n",
    "        ###<your codes>###\n",
    "        #print(y)\n",
    "        s1_value = start_p[y] * emit_p[y][obs[0]]\n",
    "        print('{}, s1_value={}*{}'.format(y,str(start_p[y]),str(emit_p[y][obs[0]])))\n",
    "        V[0][y] = s1_value\n",
    "        path[y] = [y]\n",
    "    print(V, path)\n",
    "    print('===')\n",
    "        \n",
    "    # Run Viterbi for t > 0\n",
    "    summary_list=[]\n",
    "    i=1\n",
    "    for t in range(1,len(obs)-1):\n",
    "        ###<your codes>###\n",
    "        V.append({})\n",
    "        newpath = {}\n",
    "        for current_state in states:\n",
    "            for previous_state in states:\n",
    "                s2_value = trans_p[previous_state][current_state] * emit_p[current_state][obs[t]]\n",
    "                for next_state in states:\n",
    "                    s3_value = trans_p[current_state][next_state] * emit_p[next_state][obs[t]]\n",
    "                    print('{}, {}, {}, {}: {}* {}*{} * {}*{}'.format(str(i),previous_state,current_state,next_state,str(V[0][previous_state]),str(trans_p[previous_state][current_state]),str(emit_p[current_state][obs[t]]),str(trans_p[current_state][next_state]),str(emit_p[next_state][obs[t]])))\n",
    "                    prob = V[0][previous_state] * s2_value * s3_value\n",
    "                    cases_dist={}\n",
    "                    cases_dist['case'] = i\n",
    "                    cases_dist['states'] = [previous_state,current_state,next_state]\n",
    "                    cases_dist['prob'] = prob\n",
    "                    summary_list.append(cases_dist)\n",
    "                    i+=1\n",
    "        print('--')\n",
    "    #print(summary_list) \n",
    "    prob =0\n",
    "    for cases_dist in summary_list:\n",
    "        for k,v in cases_dist.items():\n",
    "            if k == 'prob':\n",
    "                if v > prob:\n",
    "                    prob = v\n",
    "                    state = cases_dist['states']\n",
    "    \n",
    "    print('Max: ', state, prob)\n",
    "    return (prob, state)"
   ]
  },
  {
   "cell_type": "code",
   "execution_count": 35,
   "metadata": {
    "colab": {},
    "colab_type": "code",
    "id": "NmvSEK3-zPyf"
   },
   "outputs": [
    {
     "name": "stdout",
     "output_type": "stream",
     "text": [
      "sunny, s1_value=0.4*0.6\n",
      "rainy, s1_value=0.6*0.1\n",
      "[{'sunny': 0.24, 'rainy': 0.06}] {'sunny': ['sunny'], 'rainy': ['rainy']}\n",
      "===\n",
      "1, sunny, sunny, sunny: 0.24* 0.6*0.6 * 0.6*0.6\n",
      "2, sunny, sunny, rainy: 0.24* 0.6*0.6 * 0.4*0.1\n",
      "3, rainy, sunny, sunny: 0.06* 0.3*0.6 * 0.6*0.6\n",
      "4, rainy, sunny, rainy: 0.06* 0.3*0.6 * 0.4*0.1\n",
      "5, sunny, rainy, sunny: 0.24* 0.4*0.1 * 0.3*0.6\n",
      "6, sunny, rainy, rainy: 0.24* 0.4*0.1 * 0.7*0.1\n",
      "7, rainy, rainy, sunny: 0.06* 0.7*0.1 * 0.3*0.6\n",
      "8, rainy, rainy, rainy: 0.06* 0.7*0.1 * 0.7*0.1\n",
      "--\n",
      "Max:  ['sunny', 'sunny', 'sunny'] 0.031103999999999996\n"
     ]
    }
   ],
   "source": [
    "result = viterbi(observations,\n",
    "                 states,\n",
    "                 start_probability,\n",
    "                 transition_probability,\n",
    "                 emission_probatility)"
   ]
  },
  {
   "cell_type": "code",
   "execution_count": 36,
   "metadata": {
    "colab": {},
    "colab_type": "code",
    "id": "4kEr3Kb5zPyi",
    "outputId": "0141a92f-bd4c-436c-da58-e35ad87a5bf2"
   },
   "outputs": [
    {
     "data": {
      "text/plain": [
       "(0.031103999999999996, ['sunny', 'sunny', 'sunny'])"
      ]
     },
     "execution_count": 36,
     "metadata": {},
     "output_type": "execute_result"
    }
   ],
   "source": [
    "result"
   ]
  }
 ],
 "metadata": {
  "colab": {
   "name": "斷詞作業.ipynb",
   "provenance": []
  },
  "kernelspec": {
   "display_name": "Python 3",
   "language": "python",
   "name": "python3"
  },
  "language_info": {
   "codemirror_mode": {
    "name": "ipython",
    "version": 3
   },
   "file_extension": ".py",
   "mimetype": "text/x-python",
   "name": "python",
   "nbconvert_exporter": "python",
   "pygments_lexer": "ipython3",
   "version": "3.6.6"
  }
 },
 "nbformat": 4,
 "nbformat_minor": 1
}
