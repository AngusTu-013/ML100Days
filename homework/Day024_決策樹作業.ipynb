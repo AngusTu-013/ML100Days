{
 "cells": [
  {
   "cell_type": "markdown",
   "metadata": {},
   "source": [
    "### 作業目的:了解決策樹的節點分支依據\n",
    "本次作業可參考簡報中的延伸閱讀[訊息增益](https://medium.com/jameslearningnote/%E8%B3%87%E6%96%99%E5%88%86%E6%9E%90-%E6%A9%9F%E5%99%A8%E5%AD%B8%E7%BF%92-%E7%AC%AC3-5%E8%AC%9B-%E6%B1%BA%E7%AD%96%E6%A8%B9-decision-tree-%E4%BB%A5%E5%8F%8A%E9%9A%A8%E6%A9%9F%E6%A3%AE%E6%9E%97-random-forest-%E4%BB%8B%E7%B4%B9-7079b0ddfbda)部分"
   ]
  },
  {
   "cell_type": "markdown",
   "metadata": {},
   "source": [
    "#### Question:\n",
    "若你是決策樹，下列兩種分類狀況(a,b)，你會選擇哪種做分類？為什麼？\n",
    "\n",
    "<img src='hw_1.png' style='width:500px'>"
   ]
  },
  {
   "cell_type": "markdown",
   "metadata": {},
   "source": [
    "### Answer:\n",
    "\n",
    "###your answer###\n",
    "\n"
   ]
  },
  {
   "cell_type": "code",
   "execution_count": 11,
   "metadata": {},
   "outputs": [
    {
     "name": "stdout",
     "output_type": "stream",
     "text": [
      "(A). Dp=1.000000\n",
      "(A). Dleft=0.811278\n",
      "(A). Dright=0.811278\n",
      "*(A). IGh=0.188722\n",
      "(B). Dp=1.000000\n",
      "(B). Dleft=1.072542\n",
      "(B). Dright=-0.000000\n",
      "*(B). IGh=0.463729\n"
     ]
    }
   ],
   "source": [
    "import math\n",
    "\n",
    "# Entropy:\n",
    "Dp = -(0.5 *math.log2(0.5) + 0.5*math.log2(0.5))\n",
    "print('(A). Dp=%4f' % Dp)\n",
    "Dleft = - (15/20*math.log2(15/20) + 5/20*math.log2(5/20))\n",
    "print('(A). Dleft=%4f' % Dleft)\n",
    "Dright = - (5/20*math.log2(5/20) + 15/20*math.log2(15/20))\n",
    "print('(A). Dright=%4f' % Dright)\n",
    "IGh = Dp - (20/40)*Dleft - (20/40)*Dright\n",
    "print('*(A). IGh=%4f' % IGh)\n",
    "\n",
    "Dp = -((20/40) *math.log2(20/40) + 20/40*math.log2(20/40))\n",
    "print('(B). Dp=%4f' % Dp)\n",
    "Dleft = - (15/30*math.log2(15/35) + 20/35*math.log2(20/35))\n",
    "print('(B). Dleft=%4f' % Dleft)\n",
    "Dright = - (5/5*math.log2(5/5) + 0/5*math.log2((0+1e-10)/5))\n",
    "print('(B). Dright=%4f' % Dright)\n",
    "IGh = Dp - (20/40)*Dleft - (20/40)*Dright\n",
    "print('*(B). IGh=%4f' % IGh)\n",
    "\n"
   ]
  },
  {
   "cell_type": "markdown",
   "metadata": {},
   "source": [
    "### 閱讀作業\n",
    "\n",
    "決策樹根據計算分割準則的不同(ex: Entropy, Gini, Gain ratio)，可分為ID3, C4.5, CART樹的算法，請同學閱讀下列文章，來更加了解決策樹的算法。\n",
    "\n",
    "[決策樹(ID3, C4.5, CART)](https://blog.csdn.net/u010089444/article/details/53241218)"
   ]
  },
  {
   "cell_type": "code",
   "execution_count": null,
   "metadata": {
    "collapsed": true
   },
   "outputs": [],
   "source": []
  }
 ],
 "metadata": {
  "kernelspec": {
   "display_name": "Python 3",
   "language": "python",
   "name": "python3"
  },
  "language_info": {
   "codemirror_mode": {
    "name": "ipython",
    "version": 3
   },
   "file_extension": ".py",
   "mimetype": "text/x-python",
   "name": "python",
   "nbconvert_exporter": "python",
   "pygments_lexer": "ipython3",
   "version": "3.6.6"
  }
 },
 "nbformat": 4,
 "nbformat_minor": 2
}
