{
 "cells": [
  {
   "cell_type": "markdown",
   "metadata": {},
   "source": [
    "### 作業目的: 了解何謂Bias-Variance Tradeoff"
   ]
  },
  {
   "cell_type": "markdown",
   "metadata": {},
   "source": [
    "### Q1: 一般模型誤差可拆為三部分，這三部分的誤差分別是？\n",
    "\n",
    "Answer: \n",
    "\n",
    "(1). bias error (偏差誤差): 來自錯誤模型假設的誤差。\n",
    "\n",
    "(2). variance (方差) : 由於敏感度到訓練數據的小波動而引起的誤差。\n",
    "\n",
    "(3). irreducible error (隨機誤差):　隨機誤差的部分源於數據本身，基本上沒有辦法消除。\n",
    "\n",
    "refer: https://jason-chen-1992.weebly.com/home/-bias-variance-tradeoff"
   ]
  },
  {
   "cell_type": "markdown",
   "metadata": {},
   "source": [
    "### Q2: 請解釋何謂Bias-Variance Tradeoff\n",
    "\n",
    "Answer:"
   ]
  },
  {
   "cell_type": "markdown",
   "metadata": {},
   "source": [
    "source: https://dasanlin888.pixnet.net/blog/post/469515653-%E6%A9%9F%E5%99%A8%E5%AD%B8%E7%BF%92-bias-variance-tradeoff\n",
    "\n",
    "我們希望產生的模型可以「準確」地去描述資料背後的模式，但怎樣才算是準確呢？「準確」可分為兩部分，\"準\"指的是偏差(Bias)小，\"確\"指的是變異(variance)小，研究者總是希望模型可以同時偏差小、變異小，但現實總是殘酷的，如下圖所示，因為模式的整體誤差(Total error)=偏差(Bias )2+變異(variance)+隨機誤差(random error)，由於隨機誤差無法做調整(數據本身的誤差)，在模式整體誤差是固定的時候，為了降低偏差使模式複雜度(Model complexity)增加時，變異也會隨之增大，反之，為了降低變異使模式複雜度(Model complexity)降低時，偏差也會隨之增大，因此追求模型偏差以及變異最小是機器學習領域非常重要的課題之一。\n",
    "\n",
    "<img src='day025_bias_variance_tradeoff.png' style='width:500px'>\n",
    "\n",
    "\n",
    "<img src='day025_bias_variance.png' style='width:500px'>\n"
   ]
  },
  {
   "cell_type": "markdown",
   "metadata": {},
   "source": [
    "模式誤差的公式如下\n",
    "\n",
    "<img src='day025_Ee.jpg' style='width:500px'>\n",
    " \n",
    "\n",
    "但偏差過大或變異過大會產生甚麼問題呢？一般來說會遇到兩種問題:\n",
    "\n",
    "Overfitting (模式複雜度過高): Bias降低，但Variance增加\n",
    "\n",
    "Underfitting (模式複雜度過低): Variance降低，但Bias增加\n",
    "\n",
    "下方圖形為模型切合實際資料的狀態，由左至右，分別是Underfitting, Good fitting, Overfitting:\n",
    "\n",
    "<img src='day025_Ee2.jpg' style='width:500px'>\n",
    "\n",
    " "
   ]
  },
  {
   "cell_type": "code",
   "execution_count": null,
   "metadata": {
    "collapsed": true
   },
   "outputs": [],
   "source": []
  }
 ],
 "metadata": {
  "kernelspec": {
   "display_name": "Python 3",
   "language": "python",
   "name": "python3"
  },
  "language_info": {
   "codemirror_mode": {
    "name": "ipython",
    "version": 3
   },
   "file_extension": ".py",
   "mimetype": "text/x-python",
   "name": "python",
   "nbconvert_exporter": "python",
   "pygments_lexer": "ipython3",
   "version": "3.6.6"
  }
 },
 "nbformat": 4,
 "nbformat_minor": 2
}
