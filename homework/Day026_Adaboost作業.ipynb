{
 "cells": [
  {
   "cell_type": "markdown",
   "metadata": {},
   "source": [
    "#### 資料面的集成分為   : 使用不同訓練資料 + 同一種模型，多次估計後的結果合成最終預測。Ex: Bagging(裝袋法) / Boosting(提升法)。\n",
    "    \n",
    "#### 模型與特徵的集成分為: 使用同一訓練資料 + 不同模型，合成出不同預測結果。Ex: Blending(混合泛化) / Stacking (堆疊泛化)。    \n",
    "\n",
    "<img src='Day026_資料集成vs模型與特徵集成.png' style='width:500px'>"
   ]
  },
  {
   "cell_type": "markdown",
   "metadata": {},
   "source": [
    "### 作業目的:了解Ensemble中的Blending與Stacking"
   ]
  },
  {
   "cell_type": "markdown",
   "metadata": {},
   "source": [
    "### Question: 請描述Blending與Stacking的差異\n",
    "\n",
    "Answer:\n",
    "#### Blending(混合泛化):  將不同模型的預測值加權合成，權重和為\"1\"。如果取預測的平均or多數決(每個模型權重相同)，則又稱為投票泛化(Voting)。\n",
    "\n",
    "<img src='Day026_Blending.png' style='width:500px'>\n",
    "\n",
    "#### Stacking (堆疊泛化): 相對於Blending的改良，不只將預測結果混合，而是使用Level1預測結果當作下一層膜型的新特徵。更進一步運用了資料輔助集成，也使得Stacking複雜許多。\n",
    "\n",
    "\n",
    "<img src='Day026_Stacking.png' style='width:500px'>\n",
    "\n",
    "Blending與Stacking的差異在於模型預測的結果怎麼使用，是關鍵差異。\n",
    "\n",
    "<img src='Day026_Blending_vs_Stacking.png' style='width:500px'>\n"
   ]
  },
  {
   "cell_type": "code",
   "execution_count": null,
   "metadata": {
    "collapsed": true
   },
   "outputs": [],
   "source": []
  }
 ],
 "metadata": {
  "kernelspec": {
   "display_name": "Python 3",
   "language": "python",
   "name": "python3"
  },
  "language_info": {
   "codemirror_mode": {
    "name": "ipython",
    "version": 3
   },
   "file_extension": ".py",
   "mimetype": "text/x-python",
   "name": "python",
   "nbconvert_exporter": "python",
   "pygments_lexer": "ipython3",
   "version": "3.6.6"
  }
 },
 "nbformat": 4,
 "nbformat_minor": 2
}
