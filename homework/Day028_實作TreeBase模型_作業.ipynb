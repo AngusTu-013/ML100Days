{
 "cells": [
  {
   "cell_type": "markdown",
   "metadata": {},
   "source": [
    "### 作業目的: 使用樹型模型進行文章分類\n",
    "\n",
    "本次作業主利用[Amazon Review data中的All Beauty](https://nijianmo.github.io/amazon/index.html)來進行review評價分類(文章分類)\n",
    "\n",
    "資料中將review分為1,2,3,4,5分，而在這份作業，我們將評論改分為差評價、普通評價、優良評價(1,2-->1差評、3-->2普通評價、4,5-->3優良評價)"
   ]
  },
  {
   "cell_type": "code",
   "execution_count": 1,
   "metadata": {},
   "outputs": [],
   "source": [
    "# <>. Download \"All_Beauty.json.gz\" from http://deepyeti.ucsd.edu/jianmo/amazon/categoryFiles/All_Beauty.json.gz\n",
    "#!gunzip All_Beauty.json.gz"
   ]
  },
  {
   "cell_type": "markdown",
   "metadata": {},
   "source": [
    "### 載入套件"
   ]
  },
  {
   "cell_type": "code",
   "execution_count": 2,
   "metadata": {},
   "outputs": [
    {
     "name": "stderr",
     "output_type": "stream",
     "text": [
      "C:\\ProgramData\\Anaconda3\\lib\\site-packages\\numpy\\_distributor_init.py:32: UserWarning: loaded more than 1 DLL from .libs:\n",
      "C:\\ProgramData\\Anaconda3\\lib\\site-packages\\numpy\\.libs\\libopenblas.NOIJJG62EMASZI6NYURL6JBKM4EVBGM7.gfortran-win_amd64.dll\n",
      "C:\\ProgramData\\Anaconda3\\lib\\site-packages\\numpy\\.libs\\libopenblas.TXA6YQSD3GCQQC22GEQ54J2UDCXDXHWN.gfortran-win_amd64.dll\n",
      "  stacklevel=1)\n"
     ]
    }
   ],
   "source": [
    "import json\n",
    "import re\n",
    "from sklearn.tree import DecisionTreeClassifier\n",
    "from sklearn.ensemble import AdaBoostClassifier, RandomForestClassifier\n",
    "from sklearn.metrics import classification_report, confusion_matrix\n",
    "from sklearn.model_selection import train_test_split\n",
    "from sklearn.feature_extraction.text import CountVectorizer, TfidfVectorizer, TfidfTransformer"
   ]
  },
  {
   "cell_type": "markdown",
   "metadata": {},
   "source": [
    "### 資料前處理\n",
    "文本資料較為龐大，這裡我們取前10000筆資料來進行作業練習"
   ]
  },
  {
   "cell_type": "code",
   "execution_count": 3,
   "metadata": {},
   "outputs": [
    {
     "data": {
      "text/plain": [
       "(371345,\n",
       " dict,\n",
       " {'overall': 1.0,\n",
       "  'verified': True,\n",
       "  'reviewTime': '02 19, 2015',\n",
       "  'reviewerID': 'A1V6B6TNIC10QE',\n",
       "  'asin': '0143026860',\n",
       "  'reviewerName': 'theodore j bigham',\n",
       "  'reviewText': 'great',\n",
       "  'summary': 'One Star',\n",
       "  'unixReviewTime': 1424304000})"
      ]
     },
     "execution_count": 3,
     "metadata": {},
     "output_type": "execute_result"
    }
   ],
   "source": [
    "#load json data\n",
    "all_reviews = []\n",
    "###<your code>###\n",
    "file_name = 'All_Beauty.json'\n",
    "#\n",
    "#{\"overall\": 1.0, \"verified\": true, \"reviewTime\": \"02 19, 2015\", \"reviewerID\": \"A1V6B6TNIC10QE\", \"asin\": \"0143026860\", \"reviewerName\": \"theodore j bigham\", \"reviewText\": \"great\", \"summary\": \"One Star\", \"unixReviewTime\": 1424304000}\n",
    "#{\"overall\": 4.0, \"verified\": true, \"reviewTime\": \"12 18, 2014\", \"reviewerID\": \"A2F5GHSXFQ0W6J\", \"asin\": \"0143026860\", \"reviewerName\": \"Mary K. Byke\", \"reviewText\": \"My  husband wanted to reading about the Negro Baseball and this a great addition to his library\\n Our library doesn't haveinformation so this book is his start. Tthank you\", \"summary\": \"... to reading about the Negro Baseball and this a great addition to his library Our library doesn't haveinformation so ...\", \"unixReviewTime\": 1418860800}\n",
    "#\n",
    "with open(file_name, encoding='utf-8') as fp:\n",
    "    i=0\n",
    "    for line in fp:\n",
    "        all_reviews.append(json.loads(line)) # python jason string convert to dict\n",
    "        i+=1\n",
    "        \n",
    "i, type(all_reviews[0]), all_reviews[0]"
   ]
  },
  {
   "cell_type": "code",
   "execution_count": 4,
   "metadata": {},
   "outputs": [
    {
     "name": "stdout",
     "output_type": "stream",
     "text": [
      "370946 370946\n"
     ]
    }
   ],
   "source": [
    "#parse label(overall) and corpus(reviewText)\n",
    "corpus = []\n",
    "labels = []\n",
    "\n",
    "###<your code>###\n",
    "for index in range(len(all_reviews)):\n",
    "    # 取出'reviewText' and 'overall' 同時存在的文章:\n",
    "    if 'reviewText' in all_reviews[index] and 'overall' in all_reviews[index]:\n",
    "        \n",
    "        for key, value in all_reviews[index].items():\n",
    "            #取得評價分類:\n",
    "            if key == 'reviewText':\n",
    "                if value != '':\n",
    "                    corpus.append(value)\n",
    "                else:\n",
    "                    corpus.append('')\n",
    "            #取得評價並分級分數:\n",
    "            if key == 'overall':\n",
    "                #transform labels: 1,2 --> 1 and 3 --> 2 and 4,5 --> 3\n",
    "                if value >=1.0 and value <=2.0:\n",
    "                    labels.append(1)\n",
    "                elif value ==3.0:\n",
    "                    labels.append(2)\n",
    "                elif value >=4.0 and value <=5.0:\n",
    "                    labels.append(3)\n",
    "                else:\n",
    "                    labels.append('')\n",
    "\n",
    "###<your code>###\n",
    "print(len(corpus),len(labels))"
   ]
  },
  {
   "cell_type": "code",
   "execution_count": 5,
   "metadata": {},
   "outputs": [
    {
     "data": {
      "text/plain": [
       "(['great',\n",
       "  \"My  husband wanted to reading about the Negro Baseball and this a great addition to his library\\n Our library doesn't haveinformation so this book is his start. Tthank you\",\n",
       "  'This book was very informative, covering all aspects of game.',\n",
       "  'I am already a baseball fan and knew a bit about the Negro leagues, but I learned a lot more reading this book.',\n",
       "  \"This was a good story of the Black leagues. I bought the book to teach in my high school reading class. I found it very informative and exciting. I would recommend to anyone interested in the history of the black leagues. It is well written, unlike a book of facts. The McKissack's continue to write good books for young audiences that can also be enjoyed by adults!\"],\n",
       " [1, 3, 3, 3, 3])"
      ]
     },
     "execution_count": 5,
     "metadata": {},
     "output_type": "execute_result"
    }
   ],
   "source": [
    "corpus[:5], labels[:5]"
   ]
  },
  {
   "cell_type": "code",
   "execution_count": 6,
   "metadata": {},
   "outputs": [],
   "source": [
    "#preprocessing data\n",
    "#remove email address, punctuations, and change line symbol(\\n)\n",
    "###<your code>###\n",
    "pattern = r'\\S*@\\S*|\\.|\\\\n'\n",
    "for i, corpu in enumerate(corpus):\n",
    "    preprocess_string = re.sub(pattern,' ',corpu).strip(' ')  #去除 \"e-mail address格式\" && \"標點符號\" && \"換行符號\", 去除字頭字尾空白。\n",
    "    corpus[i] = preprocess_string\n",
    "    #if i >=10:\n",
    "    #    break  \n"
   ]
  },
  {
   "cell_type": "code",
   "execution_count": 7,
   "metadata": {},
   "outputs": [
    {
     "data": {
      "text/plain": [
       "['great',\n",
       " \"My  husband wanted to reading about the Negro Baseball and this a great addition to his library\\n Our library doesn't haveinformation so this book is his start  Tthank you\",\n",
       " 'This book was very informative, covering all aspects of game',\n",
       " 'I am already a baseball fan and knew a bit about the Negro leagues, but I learned a lot more reading this book',\n",
       " \"This was a good story of the Black leagues  I bought the book to teach in my high school reading class  I found it very informative and exciting  I would recommend to anyone interested in the history of the black leagues  It is well written, unlike a book of facts  The McKissack's continue to write good books for young audiences that can also be enjoyed by adults!\"]"
      ]
     },
     "execution_count": 7,
     "metadata": {},
     "output_type": "execute_result"
    }
   ],
   "source": [
    "corpus[:5]"
   ]
  },
  {
   "cell_type": "code",
   "execution_count": 8,
   "metadata": {},
   "outputs": [
    {
     "name": "stdout",
     "output_type": "stream",
     "text": [
      "370946 370946\n"
     ]
    }
   ],
   "source": [
    "print(len(corpus),len(labels))"
   ]
  },
  {
   "cell_type": "code",
   "execution_count": 9,
   "metadata": {},
   "outputs": [
    {
     "data": {
      "text/plain": [
       "(296756, 74190, 296756, 74190)"
      ]
     },
     "execution_count": 9,
     "metadata": {},
     "output_type": "execute_result"
    }
   ],
   "source": [
    "#split corpus and label into train and test\n",
    "###<your code>###\n",
    "x_train, x_test, y_train, y_test = train_test_split(corpus, labels, test_size=0.2, random_state=0)\n",
    "len(x_train), len(x_test), len(y_train), len(y_test)"
   ]
  },
  {
   "cell_type": "code",
   "execution_count": 10,
   "metadata": {},
   "outputs": [],
   "source": [
    "#change corpus into vector\n",
    "#you can use tfidf or BoW here\n",
    "###<your code>###\n",
    "vectorizer = TfidfVectorizer()\n",
    "vectorizer.fit(x_train)\n",
    "\n",
    "#transform training and testing corpus into vector form\n",
    "x_train = vectorizer.transform(x_train) ###<your code>###\n",
    "x_test = vectorizer.transform(x_test) ###<your code>###"
   ]
  },
  {
   "cell_type": "code",
   "execution_count": 11,
   "metadata": {},
   "outputs": [
    {
     "data": {
      "text/plain": [
       "((296756, 65893), 296756, (74190, 65893), 74190)"
      ]
     },
     "execution_count": 11,
     "metadata": {},
     "output_type": "execute_result"
    }
   ],
   "source": [
    "x_train.shape, len(y_train), x_test.shape, len(y_test)"
   ]
  },
  {
   "cell_type": "markdown",
   "metadata": {},
   "source": [
    "### 訓練與預測"
   ]
  },
  {
   "cell_type": "code",
   "execution_count": 28,
   "metadata": {},
   "outputs": [
    {
     "data": {
      "text/plain": [
       "AdaBoostClassifier(base_estimator=DecisionTreeClassifier(criterion='entropy',\n",
       "                                                         max_depth=4,\n",
       "                                                         min_samples_leaf=5,\n",
       "                                                         min_samples_split=20),\n",
       "                   learning_rate=0.1)"
      ]
     },
     "execution_count": 28,
     "metadata": {},
     "output_type": "execute_result"
    }
   ],
   "source": [
    "#build classification model (decision tree, random forest, or adaboost)\n",
    "#start training\n",
    "\n",
    "###<your code>###\n",
    "model = AdaBoostClassifier(base_estimator=DecisionTreeClassifier(criterion='entropy',\n",
    "                                  max_depth=4,\n",
    "                                  min_samples_split=20,\n",
    "                                  min_samples_leaf=5),\n",
    "                                  n_estimators=50,\n",
    "                                  learning_rate=0.1)\n",
    "model.fit(x_train, y_train)"
   ]
  },
  {
   "cell_type": "code",
   "execution_count": 29,
   "metadata": {},
   "outputs": [],
   "source": [
    "#start inference\n",
    "###<your code>###\n",
    "y_pred = model.predict(x_test)"
   ]
  },
  {
   "cell_type": "code",
   "execution_count": 30,
   "metadata": {},
   "outputs": [
    {
     "name": "stdout",
     "output_type": "stream",
     "text": [
      "Accuracy: 0.8021701037875725\n",
      "Number of trees: 50\n"
     ]
    }
   ],
   "source": [
    "#calculate accuracy\n",
    "###<your code>###\n",
    "accuracy = model.score(x_test,y_test)\n",
    "print(f\"Accuracy: {accuracy}\")\n",
    "# 查看adaboost含的分類器個數\n",
    "print(f\"Number of trees: {len(model.estimators_)}\")"
   ]
  },
  {
   "cell_type": "code",
   "execution_count": 31,
   "metadata": {},
   "outputs": [
    {
     "name": "stdout",
     "output_type": "stream",
     "text": [
      "              precision    recall  f1-score   support\n",
      "\n",
      "           1       0.76      0.29      0.42     11877\n",
      "           2       0.54      0.01      0.03      5788\n",
      "           3       0.81      0.99      0.89     56525\n",
      "\n",
      "    accuracy                           0.80     74190\n",
      "   macro avg       0.70      0.43      0.45     74190\n",
      "weighted avg       0.78      0.80      0.75     74190\n",
      "\n",
      "[[ 3464    35  8378]\n",
      " [  574    85  5129]\n",
      " [  523    38 55964]]\n"
     ]
    }
   ],
   "source": [
    "#calculate confusion matrix, precision, recall, and f1-score\n",
    "print(classification_report(y_test, y_pred))\n",
    "print(confusion_matrix(y_test, y_pred))"
   ]
  },
  {
   "cell_type": "markdown",
   "metadata": {},
   "source": [
    "由上述資訊可以發現, 模型在好評的準確度高(precision, recall都高), 而在差評的部分表現較不理想, 在普通評價的部分大部分跟差評搞混,\n",
    "同學可以試著學習到的各種方法來提升模型的表現"
   ]
  },
  {
   "cell_type": "code",
   "execution_count": null,
   "metadata": {},
   "outputs": [],
   "source": []
  }
 ],
 "metadata": {
  "kernelspec": {
   "display_name": "Python 3",
   "language": "python",
   "name": "python3"
  },
  "language_info": {
   "codemirror_mode": {
    "name": "ipython",
    "version": 3
   },
   "file_extension": ".py",
   "mimetype": "text/x-python",
   "name": "python",
   "nbconvert_exporter": "python",
   "pygments_lexer": "ipython3",
   "version": "3.6.13"
  }
 },
 "nbformat": 4,
 "nbformat_minor": 2
}
