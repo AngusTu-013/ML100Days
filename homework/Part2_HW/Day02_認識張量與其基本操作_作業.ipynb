{
 "cells": [
  {
   "cell_type": "markdown",
   "metadata": {},
   "source": [
    "### 作業目的: 更加熟習pytorch的tensor操作\n",
    "\n",
    "pytorch中有提供很多的API，讓使用者針對tensor進行各式各樣的操作，本次的作業希望讀者由pytorch的[官方網站](https://pytorch.org/docs/stable/torch.html)中選定四個針對tensor操作的API，對他的使用方法進行範例操作演練。"
   ]
  },
  {
   "cell_type": "markdown",
   "metadata": {},
   "source": [
    "### 選定的API 函數\n",
    "\n",
    "**請寫下選定的API functions**\n",
    "\n",
    "ex:\n",
    "* torch.from_array() / tensor.numpy()\n",
    "* torch.unsqueeze() / torch.squeeze()\n",
    "* tensor.transpose() / tensor.permute()\n",
    "* torch.reshape() / tensor.view()"
   ]
  },
  {
   "cell_type": "code",
   "execution_count": 2,
   "metadata": {},
   "outputs": [
    {
     "name": "stderr",
     "output_type": "stream",
     "text": [
      "C:\\ProgramData\\Anaconda3\\lib\\site-packages\\numpy\\_distributor_init.py:32: UserWarning: loaded more than 1 DLL from .libs:\n",
      "C:\\ProgramData\\Anaconda3\\lib\\site-packages\\numpy\\.libs\\libopenblas.NOIJJG62EMASZI6NYURL6JBKM4EVBGM7.gfortran-win_amd64.dll\n",
      "C:\\ProgramData\\Anaconda3\\lib\\site-packages\\numpy\\.libs\\libopenblas.TXA6YQSD3GCQQC22GEQ54J2UDCXDXHWN.gfortran-win_amd64.dll\n",
      "  stacklevel=1)\n"
     ]
    }
   ],
   "source": [
    "# Import torch and other required modules\n",
    "import torch\n",
    "import numpy as np"
   ]
  },
  {
   "cell_type": "markdown",
   "metadata": {},
   "source": [
    "### 範例:\n",
    "### Function 1 - torch.from_array() / tensor.numpy()"
   ]
  },
  {
   "cell_type": "code",
   "execution_count": 3,
   "metadata": {},
   "outputs": [
    {
     "name": "stdout",
     "output_type": "stream",
     "text": [
      "a: <class 'numpy.ndarray'>, float64\n",
      "b: <class 'torch.Tensor'>, torch.float64\n",
      "c: <class 'torch.Tensor'>, torch.float64\n",
      "d: <class 'numpy.ndarray'>, float64\n"
     ]
    }
   ],
   "source": [
    "# Example 1 - 將torch tensor與numpy ndarray互相轉換\n",
    "a = np.random.rand(1,2,3,3)\n",
    "print(f'a: {type(a)}, {a.dtype}')\n",
    "b = torch.from_numpy(a)\n",
    "print(f'b: {type(b)}, {b.dtype}')\n",
    "c = torch.tensor(a)\n",
    "print(f'c: {type(c)}, {c.dtype}')\n",
    "d = c.numpy()\n",
    "print(f'd: {type(d)}, {d.dtype}')"
   ]
  },
  {
   "cell_type": "code",
   "execution_count": 4,
   "metadata": {},
   "outputs": [
    {
     "name": "stdout",
     "output_type": "stream",
     "text": [
      "a: <class 'numpy.ndarray'>, int32\n",
      "b: <class 'torch.Tensor'>, torch.int32\n",
      "c: <class 'torch.Tensor'>, torch.int32\n",
      "d: <class 'numpy.ndarray'>, int32\n"
     ]
    }
   ],
   "source": [
    "# Example 2 - 經過轉換後，torch tensor與numpy array依然有相近的資料型態\n",
    "a = np.random.randint(low=0, high=10, size=(2,2))\n",
    "print(f'a: {type(a)}, {a.dtype}')\n",
    "b = torch.from_numpy(a)\n",
    "print(f'b: {type(b)}, {b.dtype}')\n",
    "c = torch.tensor(a)\n",
    "print(f'c: {type(c)}, {c.dtype}')\n",
    "d = c.numpy()\n",
    "print(f'd: {type(d)}, {d.dtype}')"
   ]
  },
  {
   "cell_type": "markdown",
   "metadata": {},
   "source": [
    "### Function 1 -\n",
    "\n",
    "torch.ones：產生給定形狀，元素全為 1 的張量\n",
    "\n",
    "torch.zeros() : 產生給定形狀，元素全為 1 的張量\n",
    "\n",
    "torch.rand(): 產生給定形狀，元素全為 random 的張量\n",
    "\n",
    "torch.mul() / a*b / a.mul_()"
   ]
  },
  {
   "cell_type": "code",
   "execution_count": 19,
   "metadata": {},
   "outputs": [
    {
     "name": "stdout",
     "output_type": "stream",
     "text": [
      "resule 1:  tensor([[0., 0., 0., 0.],\n",
      "        [1., 1., 1., 1.],\n",
      "        [2., 2., 2., 2.],\n",
      "        [3., 3., 3., 3.]]) torch.Size([4, 4])\n",
      "resule 2:  tensor([[0., 0., 0., 0.],\n",
      "        [1., 1., 1., 1.],\n",
      "        [2., 2., 2., 2.],\n",
      "        [3., 3., 3., 3.]]) torch.Size([4, 4])\n",
      "resule 2:  tensor([[0., 0., 0., 0.],\n",
      "        [1., 1., 1., 1.],\n",
      "        [2., 2., 2., 2.],\n",
      "        [3., 3., 3., 3.]]) torch.Size([4, 4])\n",
      "tensor([[[0., 0.],\n",
      "         [0., 0.],\n",
      "         [0., 0.]],\n",
      "\n",
      "        [[0., 0.],\n",
      "         [0., 0.],\n",
      "         [0., 0.]],\n",
      "\n",
      "        [[0., 0.],\n",
      "         [0., 0.],\n",
      "         [0., 0.]],\n",
      "\n",
      "        [[0., 0.],\n",
      "         [0., 0.],\n",
      "         [0., 0.]]])\n",
      "tensor([[[0.1746, 0.3794],\n",
      "         [0.8448, 0.8351],\n",
      "         [0.6725, 0.5287]],\n",
      "\n",
      "        [[0.8661, 0.5581],\n",
      "         [0.8464, 0.8680],\n",
      "         [0.2757, 0.2638]],\n",
      "\n",
      "        [[0.5932, 0.6497],\n",
      "         [0.0156, 0.9936],\n",
      "         [0.1255, 0.6351]],\n",
      "\n",
      "        [[0.4349, 0.3989],\n",
      "         [0.8861, 0.7103],\n",
      "         [0.4499, 0.0511]]])\n"
     ]
    }
   ],
   "source": [
    "# Example 1 - ### your explanation ###\n",
    "### your code ###`\n",
    "x1 = torch.tensor([[0,0,0,0],[1,1,1,1],[2,2,2,2],[3,3,3,3]])\n",
    "x2 = torch.ones(4,4)\n",
    "x1.shape, x2.shape\n",
    "x3 = x1 * x2\n",
    "print('resule 1: ', x3, x3.shape)\n",
    "x4 = torch.mul(x1,x2)\n",
    "print('resule 2: ', x4, x4.shape)\n",
    "x5 = x2.mul_(x1)\n",
    "print('resule 2: ', x5, x5.shape)\n",
    "\n",
    "print(torch.zeros(4,3,2))\n",
    "print(torch.rand(4,3,2))\n"
   ]
  },
  {
   "cell_type": "code",
   "execution_count": 6,
   "metadata": {},
   "outputs": [],
   "source": [
    "# Example 2 - ### your explanation ###\n",
    "### your code ###"
   ]
  },
  {
   "cell_type": "markdown",
   "metadata": {},
   "source": [
    "### Function 2 -  torch.unsqueeze() / torch.squeeze()"
   ]
  },
  {
   "cell_type": "code",
   "execution_count": 27,
   "metadata": {},
   "outputs": [
    {
     "name": "stdout",
     "output_type": "stream",
     "text": [
      "torch.Size([2, 2, 3]) tensor([[[ 1,  2,  3],\n",
      "         [ 3,  4,  5]],\n",
      "\n",
      "        [[ 6,  7,  8],\n",
      "         [ 9, 10, 11]]])\n",
      "torch.Size([2, 2, 3, 1]) tensor([[[[ 1],\n",
      "          [ 2],\n",
      "          [ 3]],\n",
      "\n",
      "         [[ 3],\n",
      "          [ 4],\n",
      "          [ 5]]],\n",
      "\n",
      "\n",
      "        [[[ 6],\n",
      "          [ 7],\n",
      "          [ 8]],\n",
      "\n",
      "         [[ 9],\n",
      "          [10],\n",
      "          [11]]]])\n"
     ]
    }
   ],
   "source": [
    "# Example 1 - ### your explanation ###\n",
    "### your code ###\n",
    "a = torch.tensor( [[[1,2,3],[3,4,5]],\n",
    "                  [[6,7,8],[9,10,11]]])\n",
    "print(a.shape, a)\n",
    "\n",
    "x1 =torch.unsqueeze(a, dim=3)  #增加維度在3的位置\n",
    "print(x1.shape, x1)"
   ]
  },
  {
   "cell_type": "code",
   "execution_count": 28,
   "metadata": {},
   "outputs": [
    {
     "name": "stdout",
     "output_type": "stream",
     "text": [
      "torch.Size([2, 2, 3]) tensor([[[ 1,  2,  3],\n",
      "         [ 3,  4,  5]],\n",
      "\n",
      "        [[ 6,  7,  8],\n",
      "         [ 9, 10, 11]]])\n"
     ]
    }
   ],
   "source": [
    "# Example 2 - ### your explanation ###\n",
    "### your code ###\n",
    "x2 = torch.squeeze(x1) ##壓縮為度為1的位置\n",
    "print(x2.shape, x2)"
   ]
  },
  {
   "cell_type": "markdown",
   "metadata": {},
   "source": [
    "### Function 3 - tensor.transpose() / tensor.permute()"
   ]
  },
  {
   "cell_type": "code",
   "execution_count": 29,
   "metadata": {},
   "outputs": [
    {
     "name": "stdout",
     "output_type": "stream",
     "text": [
      "torch.Size([2, 2, 3]) tensor([[[ 1,  2,  3],\n",
      "         [ 3,  4,  5]],\n",
      "\n",
      "        [[ 6,  7,  8],\n",
      "         [ 9, 10, 11]]])\n",
      "torch.Size([2, 3, 2]) tensor([[[ 1,  3],\n",
      "         [ 2,  4],\n",
      "         [ 3,  5]],\n",
      "\n",
      "        [[ 6,  9],\n",
      "         [ 7, 10],\n",
      "         [ 8, 11]]])\n"
     ]
    }
   ],
   "source": [
    "# Example 1 - ### your explanation ###\n",
    "### your code ###\n",
    "a = torch.tensor( [[[1,2,3],[3,4,5]],\n",
    "                  [[6,7,8],[9,10,11]]])\n",
    "print(a.shape, a)\n",
    "x3 = a.permute(0,2,1)\n",
    "print(x3.shape, x3)"
   ]
  },
  {
   "cell_type": "code",
   "execution_count": 31,
   "metadata": {},
   "outputs": [
    {
     "name": "stdout",
     "output_type": "stream",
     "text": [
      "torch.Size([2, 3, 2]) tensor([[[ 1,  3],\n",
      "         [ 2,  4],\n",
      "         [ 3,  5]],\n",
      "\n",
      "        [[ 6,  9],\n",
      "         [ 7, 10],\n",
      "         [ 8, 11]]])\n"
     ]
    }
   ],
   "source": [
    "# Example 2 - ### your explanation ###\n",
    "### your code ###\n",
    "x4 = a.transpose(1,2)\n",
    "print(x4.shape, x4)"
   ]
  },
  {
   "cell_type": "markdown",
   "metadata": {},
   "source": [
    "### Function 4 - torch.reshape() / tensor.view()"
   ]
  },
  {
   "cell_type": "code",
   "execution_count": 33,
   "metadata": {},
   "outputs": [
    {
     "name": "stdout",
     "output_type": "stream",
     "text": [
      "torch.Size([3, 2, 3]) tensor([[[ 1,  2,  3],\n",
      "         [ 3,  4,  5]],\n",
      "\n",
      "        [[ 6,  7,  8],\n",
      "         [ 9, 10, 11]],\n",
      "\n",
      "        [[12, 13, 14],\n",
      "         [15, 16, 17]]])\n",
      "torch.Size([3, 6]) tensor([[ 1,  2,  3,  3,  4,  5],\n",
      "        [ 6,  7,  8,  9, 10, 11],\n",
      "        [12, 13, 14, 15, 16, 17]])\n"
     ]
    }
   ],
   "source": [
    "# Example 1 - ### your explanation ###\n",
    "### your code ###\n",
    "a = torch.tensor([[[1,2,3],[3,4,5]],\n",
    "                  [[6,7,8],[9,10,11]],\n",
    "                  [[12,13,14],[15,16,17]]])\n",
    "print(a.shape, a)\n",
    "\n",
    "x5 = a.view(3,6)\n",
    "print(x5.shape, x5)"
   ]
  },
  {
   "cell_type": "code",
   "execution_count": 34,
   "metadata": {},
   "outputs": [
    {
     "name": "stdout",
     "output_type": "stream",
     "text": [
      "torch.Size([3, 6]) tensor([[ 1,  2,  3,  3,  4,  5],\n",
      "        [ 6,  7,  8,  9, 10, 11],\n",
      "        [12, 13, 14, 15, 16, 17]])\n"
     ]
    }
   ],
   "source": [
    "# Example 2 - ### your explanation ###\n",
    "### your code ###\n",
    "x6 = a.view(3,-1)\n",
    "print(x6.shape, x6)"
   ]
  },
  {
   "cell_type": "code",
   "execution_count": null,
   "metadata": {},
   "outputs": [],
   "source": []
  }
 ],
 "metadata": {
  "kernelspec": {
   "display_name": "Python 3",
   "language": "python",
   "name": "python3"
  }
 },
 "nbformat": 4,
 "nbformat_minor": 2
}
