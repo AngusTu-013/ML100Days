{
 "cells": [
  {
   "cell_type": "code",
   "execution_count": 3,
   "metadata": {},
   "outputs": [
    {
     "name": "stderr",
     "output_type": "stream",
     "text": [
      "C:\\ProgramData\\Anaconda3\\lib\\site-packages\\numpy\\_distributor_init.py:32: UserWarning: loaded more than 1 DLL from .libs:\n",
      "C:\\ProgramData\\Anaconda3\\lib\\site-packages\\numpy\\.libs\\libopenblas.NOIJJG62EMASZI6NYURL6JBKM4EVBGM7.gfortran-win_amd64.dll\n",
      "C:\\ProgramData\\Anaconda3\\lib\\site-packages\\numpy\\.libs\\libopenblas.TXA6YQSD3GCQQC22GEQ54J2UDCXDXHWN.gfortran-win_amd64.dll\n",
      "  stacklevel=1)\n"
     ]
    }
   ],
   "source": [
    "import torch\n",
    "import torch.nn as nn\n",
    "import torchvision.models as models\n",
    "import torch.nn.functional as F\n",
    "import numpy as np"
   ]
  },
  {
   "cell_type": "markdown",
   "metadata": {},
   "source": [
    "## 依照指示取出模型特定層的資訊"
   ]
  },
  {
   "cell_type": "code",
   "execution_count": 4,
   "metadata": {},
   "outputs": [],
   "source": [
    "# Define model\n",
    "class TheModelClass(nn.Module):\n",
    "    def __init__(self):\n",
    "        super(TheModelClass, self).__init__()\n",
    "        self.conv1 = nn.Conv2d(3, 6, 5)\n",
    "        self.pool = nn.MaxPool2d(2, 2)\n",
    "        self.conv2 = nn.Conv2d(6, 16, 5)\n",
    "        self.fc1 = nn.Linear(16* 5 * 5, 120)\n",
    "        self.fc2 = nn.Linear(120, 84)\n",
    "        self.fc3 = nn.Linear(84, 10)\n",
    "\n",
    "    def forward(self, x):\n",
    "        x = self.pool(F.relu(self.conv1(x)))\n",
    "        x = self.pool(F.relu(self.conv2(x)))\n",
    "        x = x.view(-1, 16 * 5 * 5)\n",
    "        x = F.relu(self.fc1(x))\n",
    "        x = F.relu(self.fc2(x))\n",
    "        x = self.fc3(x)\n",
    "        return x\n",
    "\n",
    "# Initialize model\n",
    "model = TheModelClass()\n"
   ]
  },
  {
   "cell_type": "markdown",
   "metadata": {},
   "source": [
    "### 取出 self.pool層兩次的輸出，包含：\n",
    "* x = self.pool(F.relu(self.conv1(x)))\n",
    "* x = self.pool(F.relu(self.conv2(x)))"
   ]
  },
  {
   "cell_type": "code",
   "execution_count": 5,
   "metadata": {},
   "outputs": [
    {
     "data": {
      "text/plain": [
       "<torch.utils.hooks.RemovableHandle at 0x19cdb0b8>"
      ]
     },
     "execution_count": 5,
     "metadata": {},
     "output_type": "execute_result"
    }
   ],
   "source": [
    "outputs = []\n",
    "def layer1_hook(module, input_, output):\n",
    "    outputs.append(output)\n",
    "    \n",
    "model.pool.register_forward_hook(layer1_hook)"
   ]
  },
  {
   "cell_type": "code",
   "execution_count": 6,
   "metadata": {},
   "outputs": [],
   "source": [
    "input_ = torch.randn(1, 3, 32, 32)\n",
    "output = model(input_)"
   ]
  },
  {
   "cell_type": "code",
   "execution_count": 7,
   "metadata": {},
   "outputs": [
    {
     "data": {
      "text/plain": [
       "[tensor([[[[1.0659, 0.4759, 0.9153,  ..., 0.5783, 0.5211, 0.3612],\n",
       "           [0.0581, 0.8136, 1.7281,  ..., 0.9193, 0.6414, 0.6112],\n",
       "           [0.9130, 0.8853, 0.8602,  ..., 1.3969, 0.8500, 0.2443],\n",
       "           ...,\n",
       "           [0.9061, 0.2862, 0.8420,  ..., 0.3284, 0.3332, 0.6502],\n",
       "           [0.8085, 0.5206, 1.1390,  ..., 0.9586, 0.9569, 0.7294],\n",
       "           [0.9450, 0.6991, 0.3952,  ..., 0.4297, 0.6807, 0.0140]],\n",
       " \n",
       "          [[0.5913, 0.2353, 0.5243,  ..., 0.6073, 0.0633, 0.2509],\n",
       "           [0.0000, 0.8257, 0.0000,  ..., 0.5884, 0.6846, 0.7796],\n",
       "           [0.2668, 0.0000, 0.0000,  ..., 0.9637, 0.4766, 0.3439],\n",
       "           ...,\n",
       "           [1.0793, 0.6889, 0.0000,  ..., 0.9524, 0.0860, 1.1231],\n",
       "           [0.4966, 0.8374, 0.2276,  ..., 0.1797, 0.6733, 0.7849],\n",
       "           [0.1077, 0.2367, 0.1690,  ..., 0.6323, 0.5011, 0.7073]],\n",
       " \n",
       "          [[0.6378, 0.7622, 0.8074,  ..., 0.3446, 0.1655, 0.6920],\n",
       "           [0.0000, 0.8825, 0.5400,  ..., 1.0481, 0.3415, 0.3939],\n",
       "           [0.2671, 0.7776, 0.5620,  ..., 0.8989, 0.0759, 0.0000],\n",
       "           ...,\n",
       "           [0.4392, 0.3163, 0.0935,  ..., 0.4873, 0.0000, 0.9678],\n",
       "           [0.4361, 0.5909, 0.2455,  ..., 0.0000, 0.8776, 0.6522],\n",
       "           [1.4367, 0.3807, 0.1042,  ..., 0.1008, 0.8378, 1.3100]],\n",
       " \n",
       "          [[0.0708, 0.0441, 0.8063,  ..., 0.0989, 1.1745, 0.2413],\n",
       "           [0.6904, 0.8607, 0.4067,  ..., 1.2393, 0.5109, 0.0869],\n",
       "           [0.3268, 0.5080, 0.0000,  ..., 0.9691, 0.2279, 1.0469],\n",
       "           ...,\n",
       "           [0.8075, 0.7334, 1.0419,  ..., 0.7700, 0.7612, 0.1191],\n",
       "           [0.8516, 1.3061, 0.0000,  ..., 0.3242, 0.3774, 0.3690],\n",
       "           [0.4557, 0.5498, 0.8540,  ..., 0.4966, 0.0000, 0.5496]],\n",
       " \n",
       "          [[0.7762, 0.8949, 0.4924,  ..., 0.1256, 0.9715, 0.4411],\n",
       "           [0.8635, 0.7280, 1.0974,  ..., 0.6159, 0.7187, 0.2307],\n",
       "           [0.3387, 0.5197, 0.0000,  ..., 0.0000, 0.7426, 0.3409],\n",
       "           ...,\n",
       "           [0.0000, 0.4816, 0.3776,  ..., 0.9059, 0.3890, 0.9437],\n",
       "           [0.3694, 0.8003, 0.2506,  ..., 1.5231, 0.9327, 0.4191],\n",
       "           [0.5294, 1.1562, 0.5328,  ..., 0.4401, 0.4354, 1.2549]],\n",
       " \n",
       "          [[0.7252, 0.0000, 0.2042,  ..., 1.4178, 0.4086, 0.5201],\n",
       "           [0.3497, 0.6261, 0.4970,  ..., 0.0000, 0.2091, 0.0000],\n",
       "           [1.0855, 0.1662, 0.4717,  ..., 0.5591, 0.0000, 0.7223],\n",
       "           ...,\n",
       "           [0.5301, 0.5426, 0.4133,  ..., 0.0000, 0.5335, 0.5866],\n",
       "           [0.8761, 0.4791, 0.9055,  ..., 0.4223, 0.0000, 0.4733],\n",
       "           [1.5178, 0.8155, 0.9532,  ..., 1.3767, 0.3711, 0.0000]]]],\n",
       "        grad_fn=<MaxPool2DWithIndicesBackward>),\n",
       " tensor([[[[0.2800, 0.2184, 0.2544, 0.4774, 0.1903],\n",
       "           [0.0389, 0.0100, 0.2055, 0.1222, 0.1789],\n",
       "           [0.1687, 0.0296, 0.2118, 0.2077, 0.2260],\n",
       "           [0.3922, 0.1771, 0.1841, 0.1517, 0.2443],\n",
       "           [0.0000, 0.0618, 0.0465, 0.2406, 0.1226]],\n",
       " \n",
       "          [[0.5359, 0.3981, 0.5439, 0.5780, 0.7638],\n",
       "           [0.8680, 0.2872, 0.9669, 0.8456, 0.6490],\n",
       "           [0.4626, 0.8190, 0.6505, 0.6250, 0.5647],\n",
       "           [0.4791, 0.8451, 0.5540, 0.4167, 0.3900],\n",
       "           [0.3766, 0.4155, 0.5309, 0.4598, 0.8114]],\n",
       " \n",
       "          [[0.0000, 0.0000, 0.0167, 0.0000, 0.0474],\n",
       "           [0.1789, 0.0000, 0.0000, 0.0000, 0.0000],\n",
       "           [0.0000, 0.0355, 0.0000, 0.1430, 0.0000],\n",
       "           [0.0000, 0.0494, 0.0174, 0.0000, 0.0000],\n",
       "           [0.0670, 0.0000, 0.0000, 0.0000, 0.1619]],\n",
       " \n",
       "          [[0.3802, 0.3455, 0.3730, 0.7414, 0.4563],\n",
       "           [0.7106, 0.4106, 0.0869, 0.5998, 0.4023],\n",
       "           [0.5222, 0.3979, 0.5399, 0.5443, 0.3914],\n",
       "           [0.3901, 0.2256, 0.2784, 0.5165, 0.3560],\n",
       "           [0.3312, 0.4170, 0.2911, 0.4295, 0.2244]],\n",
       " \n",
       "          [[0.0000, 0.0590, 0.0000, 0.0000, 0.0000],\n",
       "           [0.0000, 0.0000, 0.0000, 0.0000, 0.0000],\n",
       "           [0.0000, 0.0000, 0.0000, 0.0000, 0.0000],\n",
       "           [0.0000, 0.0000, 0.0000, 0.0000, 0.0000],\n",
       "           [0.0000, 0.0000, 0.0000, 0.0000, 0.0000]],\n",
       " \n",
       "          [[0.0830, 0.0688, 0.1628, 0.0000, 0.0590],\n",
       "           [0.2404, 0.1766, 0.0000, 0.0000, 0.1624],\n",
       "           [0.0000, 0.0825, 0.1657, 0.0000, 0.1183],\n",
       "           [0.2752, 0.0060, 0.0000, 0.4237, 0.1325],\n",
       "           [0.2895, 0.0000, 0.0645, 0.0000, 0.2034]],\n",
       " \n",
       "          [[0.8851, 0.4733, 0.6584, 0.5916, 0.5644],\n",
       "           [0.5278, 0.6011, 0.4866, 0.4947, 0.8091],\n",
       "           [0.7370, 0.6393, 0.7045, 0.7707, 0.6916],\n",
       "           [0.9071, 0.6746, 0.7425, 0.5768, 0.7799],\n",
       "           [0.4420, 0.6033, 0.9547, 0.4875, 0.6339]],\n",
       " \n",
       "          [[0.8383, 0.7141, 0.5553, 0.7778, 0.8712],\n",
       "           [0.9367, 0.6694, 0.7335, 0.5221, 0.8982],\n",
       "           [0.5590, 0.6922, 0.7341, 0.5148, 0.7577],\n",
       "           [0.8088, 0.8187, 0.8813, 0.8260, 0.6835],\n",
       "           [0.6734, 0.6618, 0.6520, 0.8854, 0.7894]],\n",
       " \n",
       "          [[0.5735, 0.7290, 0.5550, 0.7276, 0.7659],\n",
       "           [0.6692, 0.7412, 0.7860, 0.7202, 0.7636],\n",
       "           [0.9313, 0.6588, 0.8173, 0.7727, 0.5736],\n",
       "           [0.8305, 0.9763, 0.6176, 0.6711, 1.0194],\n",
       "           [0.6325, 0.7183, 0.7435, 0.6895, 0.5673]],\n",
       " \n",
       "          [[0.0000, 0.0000, 0.0000, 0.0000, 0.0000],\n",
       "           [0.0000, 0.0000, 0.0000, 0.0000, 0.0000],\n",
       "           [0.0000, 0.0000, 0.0000, 0.0000, 0.0000],\n",
       "           [0.0000, 0.0000, 0.0000, 0.0000, 0.0000],\n",
       "           [0.0000, 0.0000, 0.0000, 0.0000, 0.0000]],\n",
       " \n",
       "          [[0.3944, 0.1471, 0.0000, 0.0000, 0.0000],\n",
       "           [0.0000, 0.2193, 0.1965, 0.0192, 0.0000],\n",
       "           [0.2621, 0.1502, 0.0848, 0.0000, 0.3670],\n",
       "           [0.3236, 0.0000, 0.0000, 0.2451, 0.1569],\n",
       "           [0.1113, 0.0946, 0.1955, 0.0488, 0.1656]],\n",
       " \n",
       "          [[0.4017, 0.1526, 0.2263, 0.0000, 0.3703],\n",
       "           [0.1459, 0.3360, 0.0788, 0.3156, 0.3843],\n",
       "           [0.0762, 0.3558, 0.2229, 0.3382, 0.2567],\n",
       "           [0.0462, 0.2675, 0.3236, 0.2474, 0.3257],\n",
       "           [0.2794, 0.0000, 0.4699, 0.2060, 0.1484]],\n",
       " \n",
       "          [[1.0255, 1.1114, 0.6538, 0.8916, 0.7005],\n",
       "           [0.6812, 0.9474, 0.9147, 0.7184, 0.6265],\n",
       "           [0.9094, 1.0154, 0.8030, 0.8221, 0.9017],\n",
       "           [0.9306, 0.6916, 0.8118, 0.9209, 0.8117],\n",
       "           [0.7702, 1.0264, 0.7615, 0.7511, 0.9706]],\n",
       " \n",
       "          [[1.1090, 1.0040, 0.9693, 0.9327, 0.5941],\n",
       "           [0.5689, 0.5461, 0.7364, 1.0109, 0.8182],\n",
       "           [1.0953, 1.0119, 0.9151, 0.7915, 0.8413],\n",
       "           [0.7460, 0.6556, 0.7272, 0.9830, 0.8055],\n",
       "           [0.7548, 1.2283, 0.7991, 0.8272, 0.6471]],\n",
       " \n",
       "          [[0.0479, 0.0000, 0.2456, 0.1690, 0.7584],\n",
       "           [0.0107, 0.0000, 0.1786, 0.0816, 0.1760],\n",
       "           [0.2621, 0.1679, 0.1258, 0.1922, 0.4567],\n",
       "           [0.1799, 0.3429, 0.3368, 0.0907, 0.3729],\n",
       "           [0.0777, 0.0000, 0.0000, 0.4459, 0.3817]],\n",
       " \n",
       "          [[0.3277, 0.0000, 0.3707, 0.0000, 0.2489],\n",
       "           [0.0770, 0.0000, 0.0000, 0.4235, 0.3207],\n",
       "           [0.0455, 0.2676, 0.2468, 0.3054, 0.4439],\n",
       "           [0.0000, 0.0000, 0.0232, 0.1706, 0.0000],\n",
       "           [0.2521, 0.1722, 0.0965, 0.0000, 0.3573]]]],\n",
       "        grad_fn=<MaxPool2DWithIndicesBackward>)]"
      ]
     },
     "execution_count": 7,
     "metadata": {},
     "output_type": "execute_result"
    }
   ],
   "source": [
    "outputs"
   ]
  },
  {
   "cell_type": "code",
   "execution_count": 9,
   "metadata": {},
   "outputs": [
    {
     "name": "stdout",
     "output_type": "stream",
     "text": [
      "torch.Size([1, 6, 14, 14])\n",
      "torch.Size([1, 16, 5, 5])\n"
     ]
    }
   ],
   "source": [
    "print(outputs[0].shape)\n",
    "print(outputs[1].shape)"
   ]
  },
  {
   "cell_type": "markdown",
   "metadata": {},
   "source": [
    "## 加入自定義 initialization fuction"
   ]
  },
  {
   "cell_type": "markdown",
   "metadata": {},
   "source": [
    "#### 對所有Conv2D層使用自定義initialization function\n",
    "* weight : nn.init.kaiming_normal_\n",
    "* bias : 全部輸入1"
   ]
  },
  {
   "cell_type": "code",
   "execution_count": 10,
   "metadata": {},
   "outputs": [
    {
     "data": {
      "text/plain": [
       "TheModelClass(\n",
       "  (conv1): Conv2d(3, 6, kernel_size=(5, 5), stride=(1, 1))\n",
       "  (pool): MaxPool2d(kernel_size=2, stride=2, padding=0, dilation=1, ceil_mode=False)\n",
       "  (conv2): Conv2d(6, 16, kernel_size=(5, 5), stride=(1, 1))\n",
       "  (fc1): Linear(in_features=400, out_features=120, bias=True)\n",
       "  (fc2): Linear(in_features=120, out_features=84, bias=True)\n",
       "  (fc3): Linear(in_features=84, out_features=10, bias=True)\n",
       ")"
      ]
     },
     "execution_count": 10,
     "metadata": {},
     "output_type": "execute_result"
    }
   ],
   "source": [
    "from torch.nn import init\n",
    "\n",
    "def weights_init(m):\n",
    "    #classname = m.__class__.__name__\n",
    "    if isinstance(m, nn.Conv2d):\n",
    "        #torch.nn.init.xavier_uniform_(m.weight)\n",
    "        nn.init.kaiming_normal_(m.weight.data,\n",
    "                                    a=0,\n",
    "                                    mode='fan_out',\n",
    "                                    nonlinearity='relu')\n",
    "        if m.bias is not None:\n",
    "            \"自行填入\"\n",
    "            torch.nn.init.ones_(m.bias)\n",
    "            \n",
    "model.apply(weights_init)"
   ]
  },
  {
   "cell_type": "markdown",
   "metadata": {},
   "source": [
    "#### 查看 conv層的bias是否皆為1"
   ]
  },
  {
   "cell_type": "code",
   "execution_count": 11,
   "metadata": {},
   "outputs": [
    {
     "name": "stdout",
     "output_type": "stream",
     "text": [
      "conv1.bias Parameter containing:\n",
      "tensor([1., 1., 1., 1., 1., 1.], requires_grad=True)\n",
      "\n",
      "\n",
      "conv2.bias Parameter containing:\n",
      "tensor([1., 1., 1., 1., 1., 1., 1., 1., 1., 1., 1., 1., 1., 1., 1., 1.],\n",
      "       requires_grad=True)\n",
      "\n",
      "\n"
     ]
    }
   ],
   "source": [
    "for name, parameters in model.named_parameters():\n",
    "    if ('conv' in name) and ('bias' in name):\n",
    "        print(name, parameters)\n",
    "        print('\\n')"
   ]
  },
  {
   "cell_type": "code",
   "execution_count": null,
   "metadata": {},
   "outputs": [],
   "source": []
  }
 ],
 "metadata": {
  "kernelspec": {
   "display_name": "Python 3",
   "language": "python",
   "name": "python3"
  },
  "language_info": {
   "codemirror_mode": {
    "name": "ipython",
    "version": 3
   },
   "file_extension": ".py",
   "mimetype": "text/x-python",
   "name": "python",
   "nbconvert_exporter": "python",
   "pygments_lexer": "ipython3",
   "version": "3.6.12"
  }
 },
 "nbformat": 4,
 "nbformat_minor": 2
}
