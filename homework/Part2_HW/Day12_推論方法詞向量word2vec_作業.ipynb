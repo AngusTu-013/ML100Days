{
 "cells": [
  {
   "cell_type": "markdown",
   "metadata": {},
   "source": [
    "### 作業目的: 了解為何需要推論方法的詞向量及其優缺點\n",
    "本次作業主要為思考題，請學員根據題目思考適合的回答"
   ]
  },
  {
   "cell_type": "markdown",
   "metadata": {},
   "source": [
    "### Question:\n",
    "本次課程學習了word2vec中的兩個模型CBOW與Skip-gram，請學員思考與比較此兩種模型的優缺點?"
   ]
  },
  {
   "cell_type": "markdown",
   "metadata": {},
   "source": [
    "### Answer:\n",
    "\n",
    "* **CBOW**:\n",
    "\n",
    "用前後文去預測中心詞的結果情況。使用GradienDesent方法不斷的調整週圍詞的向量；當訓練為後，每個詞都會做為中心詞，把週圍詞的詞向量進行了調整。如此也獲得了整個文章裡面所有的詞的詞向量。\n",
    "\n",
    "###your answer###\n",
    "\n",
    "優點：\n",
    "  相對於Skip-gram，訓練過程來說Cbow效率高，速度快。\n",
    "  \n",
    "缺點:\n",
    "  準確度沒有Skip-gram高。\n",
    "\n",
    "\n",
    "* **Skip-gram**:\n",
    "\n",
    "用中心詞來預測週圍詞的結果情況。使用GradienDesent來不斷調整中心詞的詞向量，最终所有的文本遍歷完之後，也就得到了文本所有詞的詞向量。\n",
    "文本詞彙數據少或出現生僻詞出現次數少時，這種多次調整會使得詞向量相對的更加準確。\n",
    "###your answer###\n",
    "\n",
    "優點：\n",
    "  準確度比Cbow高。\n",
    "  \n",
    "缺點:\n",
    "  預測的次數會比Cbow多進行了K次(K為窗口大小)，訓練時間比Cbow長。\n"
   ]
  },
  {
   "cell_type": "code",
   "execution_count": null,
   "metadata": {},
   "outputs": [],
   "source": [
    "\n"
   ]
  }
 ],
 "metadata": {
  "kernelspec": {
   "display_name": "Python 3",
   "language": "python",
   "name": "python3"
  },
  "language_info": {
   "codemirror_mode": {
    "name": "ipython",
    "version": 3
   },
   "file_extension": ".py",
   "mimetype": "text/x-python",
   "name": "python",
   "nbconvert_exporter": "python",
   "pygments_lexer": "ipython3",
   "version": "3.6.12"
  }
 },
 "nbformat": 4,
 "nbformat_minor": 2
}
