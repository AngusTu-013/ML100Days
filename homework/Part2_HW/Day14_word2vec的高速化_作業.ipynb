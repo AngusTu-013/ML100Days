{
 "cells": [
  {
   "cell_type": "markdown",
   "metadata": {},
   "source": [
    "### 作業目的: 更加了解word2vec高速化\n",
    "本次作業主要是幫同學更熟悉與了解透過各項技巧來加速word2vec的原理，同學可以參考章節講義來回答下列問題。"
   ]
  },
  {
   "cell_type": "markdown",
   "metadata": {},
   "source": [
    "### Q1 - 請問word2vec原本的設計有何問題以及可以怎麼對相對應的問題做改善?\n",
    "\n",
    "\n",
    "Answer:\n",
    "\n",
    "##your answer##\n",
    "\n",
    "當詞彙數量變得龐大的時，輸入與輸出的矩陣會過於龐大，計算上會消耗很多資源和時間。\n",
    "1.\t輸入的字詞利用 one-hot 編碼，會佔據過多的記憶體 (需要儲存 100000 個元素)\n",
    "2.\t輸入與輸出層的矩陣過於龐大，因此在計算上會需要消耗較多的資源與時間\n",
    "3.\tSoftmax 需要計算所有字詞的分數\n",
    "\n",
    "可使用embedding層 (字詞轉換為one-hot的向量，並再與輸入層的權重進行向量與矩陣的乘積運算):\n",
    "1. 可以解決龐大矩陣相乘以及需要大量記憶體空間儲存 one-hot 向量的問題\n",
    "2. 與解決word2vec中one-hot 編碼與輸入輸出層矩陣運算的問題\n",
    "3. 解決Softmax 計算量的問題，可以透過 Hierarchical Softmax 或 Negative Sampling 的方式來解決。"
   ]
  },
  {
   "cell_type": "markdown",
   "metadata": {},
   "source": [
    "### Q2 - 請問在Negative Sampling中的次方係數，會如何影響字詞的抽取?\n",
    "Hint: 如何影響高頻詞與低頻詞的抽取機率\n",
    "\n",
    "Answer:\n",
    "##your answer##\n",
    "\n",
    "透過次方係數能夠壓縮高頻詞的出現機率，使抽出的字詞較不易因極高頻的字詞影響，較易抽取到其他字詞"
   ]
  },
  {
   "cell_type": "code",
   "execution_count": null,
   "metadata": {},
   "outputs": [],
   "source": []
  }
 ],
 "metadata": {
  "kernelspec": {
   "display_name": "Python 3",
   "language": "python",
   "name": "python3"
  },
  "language_info": {
   "codemirror_mode": {
    "name": "ipython",
    "version": 3
   },
   "file_extension": ".py",
   "mimetype": "text/x-python",
   "name": "python",
   "nbconvert_exporter": "python",
   "pygments_lexer": "ipython3",
   "version": "3.6.12"
  }
 },
 "nbformat": 4,
 "nbformat_minor": 2
}
