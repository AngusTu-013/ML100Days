{
 "cells": [
  {
   "cell_type": "markdown",
   "metadata": {
    "id": "QN7P90TOJcLs"
   },
   "source": [
    "# 作業: Sequence to Sequence 可以做什麼？"
   ]
  },
  {
   "cell_type": "markdown",
   "metadata": {
    "id": "nVdX55IeJgaf"
   },
   "source": [
    "## [作業目標]\n",
    "瞭解目前 Seq2Seq 的應用領域"
   ]
  },
  {
   "cell_type": "markdown",
   "metadata": {
    "id": "8QZV1BhcNHtp"
   },
   "source": [
    "## [作業重點]\n",
    "查詢 Seq2Seq 的應用，瞭解 Seq2Seq 可以做些什麼事，瞭解一下涉及的領域應用背景"
   ]
  },
  {
   "cell_type": "markdown",
   "metadata": {
    "id": "QPYgcakvJzMk"
   },
   "source": [
    "# [問題]\n",
    "請學員網路查查除了有沒有其他更有用、有趣的 Seq2Seq 應用?\n",
    "\n",
    "\n",
    "\n"
   ]
  },
  {
   "cell_type": "markdown",
   "metadata": {
    "id": "m30djHaLEIIw"
   },
   "source": [
    "# [解答]\n",
    "\n",
    "\n"
   ]
  },
  {
   "cell_type": "markdown",
   "metadata": {},
   "source": [
    "#### audio 語音辨識、video 情境評語、機器翻譯、文本摘要、對話生成、詩詞生成、生成代碼補全、故事風格改寫。"
   ]
  }
 ],
 "metadata": {
  "colab": {
   "authorship_tag": "ABX9TyP5SMu80BhtPZI5gjU21jv4",
   "name": "作業_Seq2Seq_applications.ipynb",
   "provenance": []
  },
  "kernelspec": {
   "display_name": "Python 3",
   "language": "python",
   "name": "python3"
  },
  "language_info": {
   "codemirror_mode": {
    "name": "ipython",
    "version": 3
   },
   "file_extension": ".py",
   "mimetype": "text/x-python",
   "name": "python",
   "nbconvert_exporter": "python",
   "pygments_lexer": "ipython3",
   "version": "3.6.13"
  }
 },
 "nbformat": 4,
 "nbformat_minor": 1
}
